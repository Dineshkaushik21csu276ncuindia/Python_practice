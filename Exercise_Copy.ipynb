{
  "cells": [
    {
      "cell_type": "markdown",
      "metadata": {
        "id": "view-in-github",
        "colab_type": "text"
      },
      "source": [
        "<a href=\"https://colab.research.google.com/github/Dineshkaushik21csu276ncuindia/Python_practice/blob/main/Exercise_Copy.ipynb\" target=\"_parent\"><img src=\"https://colab.research.google.com/assets/colab-badge.svg\" alt=\"Open In Colab\"/></a>"
      ]
    },
    {
      "cell_type": "code",
      "execution_count": null,
      "metadata": {
        "id": "Afczo2kvlvLs"
      },
      "outputs": [],
      "source": [
        "import seaborn as sns\n",
        "import numpy as np\n",
        "import matplotlib.pyplot as plt\n",
        "import pandas as pd\n",
        "import warnings\n",
        "warnings.simplefilter('ignore')\n",
        "#plt.style.use('dark_background')"
      ]
    },
    {
      "cell_type": "code",
      "execution_count": null,
      "metadata": {
        "id": "ERif6C_Tofrf",
        "outputId": "a2941251-cc90-479d-bfe3-1d57a89102a5"
      },
      "outputs": [
        {
          "data": {
            "text/html": [
              "<div>\n",
              "<style scoped>\n",
              "    .dataframe tbody tr th:only-of-type {\n",
              "        vertical-align: middle;\n",
              "    }\n",
              "\n",
              "    .dataframe tbody tr th {\n",
              "        vertical-align: top;\n",
              "    }\n",
              "\n",
              "    .dataframe thead th {\n",
              "        text-align: right;\n",
              "    }\n",
              "</style>\n",
              "<table border=\"1\" class=\"dataframe\">\n",
              "  <thead>\n",
              "    <tr style=\"text-align: right;\">\n",
              "      <th></th>\n",
              "      <th>Sale_Price</th>\n",
              "      <th>No of Bedrooms</th>\n",
              "      <th>No of Bathrooms</th>\n",
              "      <th>Flat Area (in Sqft)</th>\n",
              "      <th>Lot Area (in Sqft)</th>\n",
              "      <th>No of Floors</th>\n",
              "      <th>No of Times Visited</th>\n",
              "      <th>Overall Grade</th>\n",
              "      <th>Area of the House from Basement (in Sqft)</th>\n",
              "      <th>Basement Area (in Sqft)</th>\n",
              "      <th>...</th>\n",
              "      <th>Waterfront_View_Yes</th>\n",
              "      <th>Zipcode_Group_Zipcode_Group_1</th>\n",
              "      <th>Zipcode_Group_Zipcode_Group_2</th>\n",
              "      <th>Zipcode_Group_Zipcode_Group_3</th>\n",
              "      <th>Zipcode_Group_Zipcode_Group_4</th>\n",
              "      <th>Zipcode_Group_Zipcode_Group_5</th>\n",
              "      <th>Zipcode_Group_Zipcode_Group_6</th>\n",
              "      <th>Zipcode_Group_Zipcode_Group_7</th>\n",
              "      <th>Zipcode_Group_Zipcode_Group_8</th>\n",
              "      <th>Zipcode_Group_Zipcode_Group_9</th>\n",
              "    </tr>\n",
              "  </thead>\n",
              "  <tbody>\n",
              "    <tr>\n",
              "      <th>0</th>\n",
              "      <td>221900.0</td>\n",
              "      <td>3</td>\n",
              "      <td>1.00</td>\n",
              "      <td>1180.0</td>\n",
              "      <td>5650.0</td>\n",
              "      <td>1.0</td>\n",
              "      <td>0</td>\n",
              "      <td>7</td>\n",
              "      <td>1180.0</td>\n",
              "      <td>0</td>\n",
              "      <td>...</td>\n",
              "      <td>0</td>\n",
              "      <td>0</td>\n",
              "      <td>0</td>\n",
              "      <td>0</td>\n",
              "      <td>0</td>\n",
              "      <td>0</td>\n",
              "      <td>0</td>\n",
              "      <td>0</td>\n",
              "      <td>0</td>\n",
              "      <td>0</td>\n",
              "    </tr>\n",
              "    <tr>\n",
              "      <th>1</th>\n",
              "      <td>538000.0</td>\n",
              "      <td>3</td>\n",
              "      <td>2.25</td>\n",
              "      <td>2570.0</td>\n",
              "      <td>7242.0</td>\n",
              "      <td>2.0</td>\n",
              "      <td>0</td>\n",
              "      <td>7</td>\n",
              "      <td>2170.0</td>\n",
              "      <td>400</td>\n",
              "      <td>...</td>\n",
              "      <td>0</td>\n",
              "      <td>0</td>\n",
              "      <td>1</td>\n",
              "      <td>0</td>\n",
              "      <td>0</td>\n",
              "      <td>0</td>\n",
              "      <td>0</td>\n",
              "      <td>0</td>\n",
              "      <td>0</td>\n",
              "      <td>0</td>\n",
              "    </tr>\n",
              "    <tr>\n",
              "      <th>2</th>\n",
              "      <td>180000.0</td>\n",
              "      <td>2</td>\n",
              "      <td>1.00</td>\n",
              "      <td>770.0</td>\n",
              "      <td>10000.0</td>\n",
              "      <td>1.0</td>\n",
              "      <td>0</td>\n",
              "      <td>6</td>\n",
              "      <td>770.0</td>\n",
              "      <td>0</td>\n",
              "      <td>...</td>\n",
              "      <td>0</td>\n",
              "      <td>0</td>\n",
              "      <td>1</td>\n",
              "      <td>0</td>\n",
              "      <td>0</td>\n",
              "      <td>0</td>\n",
              "      <td>0</td>\n",
              "      <td>0</td>\n",
              "      <td>0</td>\n",
              "      <td>0</td>\n",
              "    </tr>\n",
              "    <tr>\n",
              "      <th>3</th>\n",
              "      <td>604000.0</td>\n",
              "      <td>4</td>\n",
              "      <td>3.00</td>\n",
              "      <td>1960.0</td>\n",
              "      <td>5000.0</td>\n",
              "      <td>1.0</td>\n",
              "      <td>0</td>\n",
              "      <td>7</td>\n",
              "      <td>1050.0</td>\n",
              "      <td>910</td>\n",
              "      <td>...</td>\n",
              "      <td>0</td>\n",
              "      <td>0</td>\n",
              "      <td>0</td>\n",
              "      <td>1</td>\n",
              "      <td>0</td>\n",
              "      <td>0</td>\n",
              "      <td>0</td>\n",
              "      <td>0</td>\n",
              "      <td>0</td>\n",
              "      <td>0</td>\n",
              "    </tr>\n",
              "    <tr>\n",
              "      <th>4</th>\n",
              "      <td>510000.0</td>\n",
              "      <td>3</td>\n",
              "      <td>2.00</td>\n",
              "      <td>1680.0</td>\n",
              "      <td>8080.0</td>\n",
              "      <td>1.0</td>\n",
              "      <td>0</td>\n",
              "      <td>8</td>\n",
              "      <td>1680.0</td>\n",
              "      <td>0</td>\n",
              "      <td>...</td>\n",
              "      <td>0</td>\n",
              "      <td>0</td>\n",
              "      <td>0</td>\n",
              "      <td>0</td>\n",
              "      <td>1</td>\n",
              "      <td>0</td>\n",
              "      <td>0</td>\n",
              "      <td>0</td>\n",
              "      <td>0</td>\n",
              "      <td>0</td>\n",
              "    </tr>\n",
              "  </tbody>\n",
              "</table>\n",
              "<p>5 rows × 31 columns</p>\n",
              "</div>"
            ],
            "text/plain": [
              "   Sale_Price  No of Bedrooms  No of Bathrooms  Flat Area (in Sqft)  \\\n",
              "0    221900.0               3             1.00               1180.0   \n",
              "1    538000.0               3             2.25               2570.0   \n",
              "2    180000.0               2             1.00                770.0   \n",
              "3    604000.0               4             3.00               1960.0   \n",
              "4    510000.0               3             2.00               1680.0   \n",
              "\n",
              "   Lot Area (in Sqft)  No of Floors  No of Times Visited  Overall Grade  \\\n",
              "0              5650.0           1.0                    0              7   \n",
              "1              7242.0           2.0                    0              7   \n",
              "2             10000.0           1.0                    0              6   \n",
              "3              5000.0           1.0                    0              7   \n",
              "4              8080.0           1.0                    0              8   \n",
              "\n",
              "   Area of the House from Basement (in Sqft)  Basement Area (in Sqft)  ...  \\\n",
              "0                                     1180.0                        0  ...   \n",
              "1                                     2170.0                      400  ...   \n",
              "2                                      770.0                        0  ...   \n",
              "3                                     1050.0                      910  ...   \n",
              "4                                     1680.0                        0  ...   \n",
              "\n",
              "   Waterfront_View_Yes  Zipcode_Group_Zipcode_Group_1  \\\n",
              "0                    0                              0   \n",
              "1                    0                              0   \n",
              "2                    0                              0   \n",
              "3                    0                              0   \n",
              "4                    0                              0   \n",
              "\n",
              "   Zipcode_Group_Zipcode_Group_2  Zipcode_Group_Zipcode_Group_3  \\\n",
              "0                              0                              0   \n",
              "1                              1                              0   \n",
              "2                              1                              0   \n",
              "3                              0                              1   \n",
              "4                              0                              0   \n",
              "\n",
              "   Zipcode_Group_Zipcode_Group_4  Zipcode_Group_Zipcode_Group_5  \\\n",
              "0                              0                              0   \n",
              "1                              0                              0   \n",
              "2                              0                              0   \n",
              "3                              0                              0   \n",
              "4                              1                              0   \n",
              "\n",
              "   Zipcode_Group_Zipcode_Group_6  Zipcode_Group_Zipcode_Group_7  \\\n",
              "0                              0                              0   \n",
              "1                              0                              0   \n",
              "2                              0                              0   \n",
              "3                              0                              0   \n",
              "4                              0                              0   \n",
              "\n",
              "   Zipcode_Group_Zipcode_Group_8  Zipcode_Group_Zipcode_Group_9  \n",
              "0                              0                              0  \n",
              "1                              0                              0  \n",
              "2                              0                              0  \n",
              "3                              0                              0  \n",
              "4                              0                              0  \n",
              "\n",
              "[5 rows x 31 columns]"
            ]
          },
          "execution_count": 2,
          "metadata": {},
          "output_type": "execute_result"
        }
      ],
      "source": [
        "data = pd.read_csv('Transformed_Housing_Data2.csv')\n",
        "data.head()"
      ]
    },
    {
      "cell_type": "markdown",
      "metadata": {
        "id": "yCq5P-oNx-Lm"
      },
      "source": [
        "# Task:\n",
        "1. To create a mean regression model based on \"No of Floors\" column and call it \"floor_mean\"\n",
        "2. To compare the residual plots of overall \"mean_sales\" and \"floor_mean\".\n",
        "3. To calculate the R-Square value for \"floor_mean\" model manually without using sklearn."
      ]
    },
    {
      "cell_type": "markdown",
      "metadata": {
        "id": "5oE6vqm-G9jC"
      },
      "source": [
        "## 1. To create \"floor_mean\" column"
      ]
    },
    {
      "cell_type": "code",
      "execution_count": null,
      "metadata": {
        "id": "DlIjYuLuv1qZ",
        "outputId": "4317fbc0-df35-4b63-b0cf-1d846c30ecec"
      },
      "outputs": [
        {
          "data": {
            "text/plain": [
              "0    511618.558147\n",
              "1    511618.558147\n",
              "2    511618.558147\n",
              "3    511618.558147\n",
              "4    511618.558147\n",
              "Name: mean_sales, dtype: float64"
            ]
          },
          "execution_count": 7,
          "metadata": {},
          "output_type": "execute_result"
        }
      ],
      "source": [
        "data['mean_sales'] = data['Sale_Price'].mean()\n",
        "data['mean_sales'].head()\n"
      ]
    },
    {
      "cell_type": "code",
      "execution_count": null,
      "metadata": {
        "id": "n1X5k9vbHZmC",
        "outputId": "89911adf-73fa-458f-f858-fc720e1c76a2"
      },
      "outputs": [
        {
          "name": "stdout",
          "output_type": "stream",
          "text": [
            "[1.  2.  1.5 3.  2.5 3.5]\n"
          ]
        }
      ],
      "source": [
        "unique_floors = data['No of Floors'].unique()\n",
        "print(unique_floors)"
      ]
    },
    {
      "cell_type": "markdown",
      "metadata": {
        "id": "X5KloWFR1fHb"
      },
      "source": [
        "### Expected Output\n",
        "\n",
        "\n",
        "```\n",
        "array([1. , 2. , 1.5, 3. , 2.5, 3.5])\n",
        "```\n"
      ]
    },
    {
      "cell_type": "code",
      "execution_count": null,
      "metadata": {
        "id": "mAr6w04Jx0aD",
        "outputId": "cc313493-9908-43c2-ca30-fbf9eb56746d"
      },
      "outputs": [
        {
          "data": {
            "text/html": [
              "<div>\n",
              "<style scoped>\n",
              "    .dataframe tbody tr th:only-of-type {\n",
              "        vertical-align: middle;\n",
              "    }\n",
              "\n",
              "    .dataframe tbody tr th {\n",
              "        vertical-align: top;\n",
              "    }\n",
              "\n",
              "    .dataframe thead th {\n",
              "        text-align: right;\n",
              "    }\n",
              "</style>\n",
              "<table border=\"1\" class=\"dataframe\">\n",
              "  <thead>\n",
              "    <tr style=\"text-align: right;\">\n",
              "      <th></th>\n",
              "      <th>Sale_Price</th>\n",
              "    </tr>\n",
              "    <tr>\n",
              "      <th>No of Floors</th>\n",
              "      <th></th>\n",
              "    </tr>\n",
              "  </thead>\n",
              "  <tbody>\n",
              "    <tr>\n",
              "      <th>1.0</th>\n",
              "      <td>431826.297032</td>\n",
              "    </tr>\n",
              "    <tr>\n",
              "      <th>1.5</th>\n",
              "      <td>542188.988482</td>\n",
              "    </tr>\n",
              "    <tr>\n",
              "      <th>2.0</th>\n",
              "      <td>599260.708460</td>\n",
              "    </tr>\n",
              "    <tr>\n",
              "      <th>2.5</th>\n",
              "      <td>798774.472050</td>\n",
              "    </tr>\n",
              "    <tr>\n",
              "      <th>3.0</th>\n",
              "      <td>551141.645425</td>\n",
              "    </tr>\n",
              "    <tr>\n",
              "      <th>3.5</th>\n",
              "      <td>662634.375000</td>\n",
              "    </tr>\n",
              "  </tbody>\n",
              "</table>\n",
              "</div>"
            ],
            "text/plain": [
              "                 Sale_Price\n",
              "No of Floors               \n",
              "1.0           431826.297032\n",
              "1.5           542188.988482\n",
              "2.0           599260.708460\n",
              "2.5           798774.472050\n",
              "3.0           551141.645425\n",
              "3.5           662634.375000"
            ]
          },
          "execution_count": 10,
          "metadata": {},
          "output_type": "execute_result"
        }
      ],
      "source": [
        "floor_mean = pd.pivot_table(data, values='Sale_Price', index='No of Floors', aggfunc=np.mean)\n",
        "floor_mean\n"
      ]
    },
    {
      "cell_type": "markdown",
      "metadata": {
        "id": "-wM4pgiJ2rlb"
      },
      "source": [
        "# Expected Output\n",
        "<img src=\"images/image1.png\">"
      ]
    },
    {
      "cell_type": "code",
      "execution_count": null,
      "metadata": {
        "id": "Q2RgYYBAwfnb",
        "outputId": "81438c64-d22f-4205-eb1f-1f85883a7301"
      },
      "outputs": [
        {
          "data": {
            "text/plain": [
              "0    431826.297032\n",
              "1    599260.708460\n",
              "2    431826.297032\n",
              "3    431826.297032\n",
              "4    431826.297032\n",
              "Name: floor_mean, dtype: float64"
            ]
          },
          "execution_count": 11,
          "metadata": {},
          "output_type": "execute_result"
        }
      ],
      "source": [
        "data['floor_mean'] = 0\n",
        "\n",
        "for floor in floor_mean.index:\n",
        "    data.loc[data['No of Floors'] == floor, 'floor_mean'] = floor_mean.loc[floor].values[0]\n",
        "\n",
        "data['floor_mean'].head()\n"
      ]
    },
    {
      "cell_type": "markdown",
      "metadata": {
        "id": "xYD_tEKYG112"
      },
      "source": [
        "## 2. To Compare Residual plots"
      ]
    },
    {
      "cell_type": "markdown",
      "metadata": {
        "id": "oTuyUztl_veT"
      },
      "source": [
        "### Expected Output\n",
        "<img src=\"images/image2.png\">"
      ]
    },
    {
      "cell_type": "code",
      "execution_count": null,
      "metadata": {
        "id": "jrtHbqPBcVDH",
        "outputId": "7cd9fd06-e519-45dd-dff4-1f96cf7dde16"
      },
      "outputs": [
        {
          "data": {
            "text/plain": [
              "(21609, 21609)"
            ]
          },
          "execution_count": 12,
          "metadata": {},
          "output_type": "execute_result"
        }
      ],
      "source": [
        "mean_difference = data['Sale_Price'] - data['mean_sales']\n",
        "floor_mean_difference = data['Sale_Price'] - data['floor_mean']\n",
        "mean_difference.size, floor_mean_difference.size\n"
      ]
    },
    {
      "cell_type": "markdown",
      "metadata": {
        "id": "-8Lj06bRDDzM"
      },
      "source": [
        "### Expected Outcome\n",
        "<img src=\"images/image3.png\">"
      ]
    },
    {
      "cell_type": "code",
      "execution_count": null,
      "metadata": {
        "id": "zZkZcyi2c2m7",
        "outputId": "c8489c2e-6d45-4cf6-f27f-4d0b57abaf76"
      },
      "outputs": [
        {
          "name": "stderr",
          "output_type": "stream",
          "text": [
            "No artists with labels found to put in legend.  Note that artists whose label start with an underscore are ignored when legend() is called with no argument.\n"
          ]
        },
        {
          "data": {
            "image/png": "[encoded data removed]",
            "text/plain": [
              "<Figure size 1500x600 with 2 Axes>"
            ]
          },
          "metadata": {},
          "output_type": "display_data"
        }
      ],
      "source": [
        "k = range(0, len(data))  # for x axis\n",
        "l = [0 for _ in range(len(data))]  # for regression line in residual plot\n",
        "\n",
        "plt.figure(figsize=(15, 6), dpi=100)\n",
        "\n",
        "# Plot for Overall Mean\n",
        "plt.subplot(1, 2, 1)\n",
        "plt.scatter(data['mean_sales'], mean_difference)\n",
        "plt.plot(data['mean_sales'], l, color='red')\n",
        "plt.xlabel('Fitted points')\n",
        "plt.ylabel(\"Residuals\")\n",
        "plt.title('Residuals with respect to Overall Mean')\n",
        "\n",
        "# Plot for Floor Mean\n",
        "plt.subplot(1, 2, 2)\n",
        "plt.scatter(data['No of Floors'], floor_mean_difference)\n",
        "plt.plot(data['No of Floors'], l, color='red')\n",
        "plt.xlabel('Fitted points')\n",
        "plt.ylabel(\"Residuals\")\n",
        "plt.title(\"Residuals with respect to Number of Floors\")\n",
        "\n",
        "plt.legend()\n",
        "plt.show()\n",
        "\n"
      ]
    },
    {
      "cell_type": "markdown",
      "metadata": {
        "id": "4fFNHUVkF3DU"
      },
      "source": [
        "### Expected Outcome\n",
        "<img src=\"images/image4.png\">"
      ]
    },
    {
      "cell_type": "markdown",
      "metadata": {
        "id": "iDpTUqxRGzAS"
      },
      "source": [
        "## 3. To calculate $R^2$ value of the \"floor_mean\" model manually\n",
        "<img src=\"images/image5.png\">"
      ]
    },
    {
      "cell_type": "code",
      "execution_count": null,
      "metadata": {
        "id": "qOd5hN9xcvUG",
        "outputId": "765fc073-48ce-4fe2-8956-88a7a7ee8255"
      },
      "outputs": [
        {
          "data": {
            "text/plain": [
              "0.10914638255441778"
            ]
          },
          "execution_count": 14,
          "metadata": {},
          "output_type": "execute_result"
        }
      ],
      "source": [
        "MSE1 = np.mean(mean_difference**2)\n",
        "MSE2 = np.mean(floor_mean_difference**2)\n",
        "R2 = 1 - (MSE2 / MSE1)\n",
        "R2\n"
      ]
    },
    {
      "cell_type": "markdown",
      "metadata": {
        "id": "e_vUdixgYBwm"
      },
      "source": [
        "### Expected Outcome\n",
        "<img src=\"images/image6.png\">"
      ]
    }
  ],
  "metadata": {
    "colab": {
      "provenance": [],
      "include_colab_link": true
    },
    "kernelspec": {
      "display_name": "Python 3 (ipykernel)",
      "language": "python",
      "name": "python3"
    },
    "language_info": {
      "codemirror_mode": {
        "name": "ipython",
        "version": 3
      },
      "file_extension": ".py",
      "mimetype": "text/x-python",
      "name": "python",
      "nbconvert_exporter": "python",
      "pygments_lexer": "ipython3",
      "version": "3.10.9"
    }
  },
  "nbformat": 4,
  "nbformat_minor": 0
}