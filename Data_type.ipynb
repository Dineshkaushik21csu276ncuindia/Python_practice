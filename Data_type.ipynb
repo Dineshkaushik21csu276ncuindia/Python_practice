{
  "nbformat": 4,
  "nbformat_minor": 0,
  "metadata": {
    "colab": {
      "private_outputs": true,
      "provenance": [],
      "authorship_tag": "ABX9TyPPaNOlk7V7PuV7c/6fYmWx",
      "include_colab_link": true
    },
    "kernelspec": {
      "name": "python3",
      "display_name": "Python 3"
    },
    "language_info": {
      "name": "python"
    }
  },
  "cells": [
    {
      "cell_type": "markdown",
      "metadata": {
        "id": "view-in-github",
        "colab_type": "text"
      },
      "source": [
        "<a href=\"https://colab.research.google.com/github/Dineshkaushik21csu276ncuindia/Python_practice/blob/main/Data_type.ipynb\" target=\"_parent\"><img src=\"https://colab.research.google.com/assets/colab-badge.svg\" alt=\"Open In Colab\"/></a>"
      ]
    },
    {
      "cell_type": "code",
      "execution_count": null,
      "metadata": {
        "id": "m-RG_VilFYVE"
      },
      "outputs": [],
      "source": [
        "#  Data types\n",
        "a = 2324\n",
        "\n",
        "type(a)"
      ]
    },
    {
      "cell_type": "code",
      "source": [
        "B = 23.33\n",
        "type(B)"
      ],
      "metadata": {
        "id": "01LBvHCKFr9h"
      },
      "execution_count": null,
      "outputs": []
    },
    {
      "cell_type": "code",
      "source": [
        "C = a/B\n",
        "type(C)"
      ],
      "metadata": {
        "id": "OQFTdpTuFvLF"
      },
      "execution_count": null,
      "outputs": []
    },
    {
      "cell_type": "code",
      "source": [
        "D =  234.77 + 8j\n",
        "type(D)\n"
      ],
      "metadata": {
        "id": "-NRepJZdF1KJ"
      },
      "execution_count": null,
      "outputs": []
    },
    {
      "cell_type": "code",
      "source": [
        "A =  'Dinesh '\n",
        "type(A)\n"
      ],
      "metadata": {
        "id": "z9ZGSTaiF1Mo"
      },
      "execution_count": null,
      "outputs": []
    },
    {
      "cell_type": "code",
      "source": [
        "A =  'Dinesh '\n",
        "B =  'Kaushik'\n",
        "C =  A+B\n",
        "print(C . upper())\n"
      ],
      "metadata": {
        "id": "q5xfvhOLF1PF"
      },
      "execution_count": null,
      "outputs": []
    },
    {
      "cell_type": "code",
      "source": [
        "a = [123,243,\"Dinesh\", \"kaushik\"]\n",
        "type (a)"
      ],
      "metadata": {
        "id": "NGcxGDwVF1S2"
      },
      "execution_count": null,
      "outputs": []
    },
    {
      "cell_type": "code",
      "source": [
        "a[2]"
      ],
      "metadata": {
        "id": "N7mz8PHYF1WO"
      },
      "execution_count": null,
      "outputs": []
    },
    {
      "cell_type": "code",
      "source": [
        "a[2] = \"Radhika\"\n",
        "a"
      ],
      "metadata": {
        "id": "8NO1t5_EGF-c"
      },
      "execution_count": null,
      "outputs": []
    },
    {
      "cell_type": "code",
      "source": [
        "a = (123,243,\"Dinesh\", \"kaushik\")\n",
        "type (a)"
      ],
      "metadata": {
        "id": "iy3vTZ-pGGBe"
      },
      "execution_count": null,
      "outputs": []
    },
    {
      "cell_type": "code",
      "source": [
        "a[2] =\"Radhika\""
      ],
      "metadata": {
        "id": "TD4Sd5AhGGEM"
      },
      "execution_count": null,
      "outputs": []
    },
    {
      "cell_type": "code",
      "source": [
        "a = {123,243,\"Dinesh\", \"kaushik\"}\n",
        "type (a)"
      ],
      "metadata": {
        "id": "13KMfNFSGGHN"
      },
      "execution_count": null,
      "outputs": []
    },
    {
      "cell_type": "code",
      "source": [
        "a[2]"
      ],
      "metadata": {
        "id": "Yxwk0i2iGGJw"
      },
      "execution_count": null,
      "outputs": []
    },
    {
      "cell_type": "code",
      "source": [
        "a = {123,243,\"Dinesh\", \"kaushik\", 123,243,\"Dinesh\", \"kaushik\"}\n",
        "type (a)\n",
        "a"
      ],
      "metadata": {
        "id": "O0vUBci2GGMp"
      },
      "execution_count": null,
      "outputs": []
    },
    {
      "cell_type": "code",
      "source": [
        "A = {1:5555 , 2: \"Dinesh\", 3 : \"KAushik\"}\n",
        "A\n",
        "type(A)"
      ],
      "metadata": {
        "id": "e5qPgLxEGGPr"
      },
      "execution_count": null,
      "outputs": []
    },
    {
      "cell_type": "code",
      "source": [
        "A = {1:5555 , 2: \"Dinesh\", 3 : \"KAushik\"}\n",
        "A"
      ],
      "metadata": {
        "id": "Rerrt733GGS-"
      },
      "execution_count": null,
      "outputs": []
    },
    {
      "cell_type": "code",
      "source": [
        "A[2]"
      ],
      "metadata": {
        "id": "BZCqxnNgGGY5"
      },
      "execution_count": null,
      "outputs": []
    },
    {
      "cell_type": "code",
      "source": [
        "A =  \"assdf\"\n",
        "type(A)"
      ],
      "metadata": {
        "id": "f_5hLYOCGGbm"
      },
      "execution_count": null,
      "outputs": []
    }
  ]
}